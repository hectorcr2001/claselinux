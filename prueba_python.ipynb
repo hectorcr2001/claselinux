{
  "nbformat": 4,
  "nbformat_minor": 0,
  "metadata": {
    "colab": {
      "name": "prueba_python.ipynb",
      "provenance": [],
      "authorship_tag": "ABX9TyM4hCa0k5Q0hXGTwRDjbETH",
      "include_colab_link": true
    },
    "kernelspec": {
      "name": "python3",
      "display_name": "Python 3"
    },
    "language_info": {
      "name": "python"
    }
  },
  "cells": [
    {
      "cell_type": "markdown",
      "metadata": {
        "id": "view-in-github",
        "colab_type": "text"
      },
      "source": [
        "<a href=\"https://colab.research.google.com/github/hectorcr2001/claselinux/blob/main/prueba_python.ipynb\" target=\"_parent\"><img src=\"https://colab.research.google.com/assets/colab-badge.svg\" alt=\"Open In Colab\"/></a>"
      ]
    },
    {
      "cell_type": "code",
      "source": [
        "import numpy as np\n"
      ],
      "metadata": {
        "id": "b5MHsY0892rf"
      },
      "execution_count": 15,
      "outputs": []
    },
    {
      "cell_type": "code",
      "source": [
        "from numpy.lib.twodim_base import mask_indices\n",
        "import numpy as np\n",
        "import matplotlib.pyplot as plt\n",
        "# valores iniciales\n",
        "n=1000\n",
        "m=5\n",
        "h=0.5\n",
        "t=0\n",
        "g=4.2\n",
        "fig, ax = plt.subplots()\n",
        "plt.yscale(\"log\")\n",
        "plt.ylim(0,10e30)\n",
        "a=np.zeros(m)\n",
        "ma=np.random.uniform(0,10,m)\n",
        "r=np.random.uniform(0,10,m)\n",
        "v=np.random.uniform(0,10,m)\n",
        "w=np.zeros(m)\n",
        "for i in range(m):\n",
        "    for j in range(m):\n",
        "      if (i != j):\n",
        "        a[i]=a[i]-g*ma[j]*(r[i]-r[j])/(abs(r[i]-r[j])**3)\n",
        "for k in range(n):\n",
        "  for i in range(m):\n",
        "    # for j in range(m):\n",
        "      # if (i != j):\n",
        "        # a[i]=a[i]-g*ma[j]*(r[i]-r[j])/(abs(r[i]-r[j])**3)\n",
        "    r[i]=r[i]+h*v[i]+(h**2)*a[i]\n",
        "    w[i]=w[i]+v[i]+(h/2)*a[i]\n",
        "    for l in range(m):\n",
        "      if (i!=l):\n",
        "        a[i]=a[i]-g*ma[l]*(r[i]-r[l])/(abs(r[i]-r[l])**3)\n",
        "    v[i]=w[i]+(h/2)*a[i]\n",
        "  plt.scatter(x =t , y = r[0])\n",
        "  \n",
        "#  print(t,\" \",r)\n",
        "  \n",
        "  t=t+h"
      ],
      "metadata": {
        "colab": {
          "base_uri": "https://localhost:8080/",
          "height": 341
        },
        "id": "zj_l62A86Yir",
        "outputId": "f8cae0a8-29ea-44e2-bd42-96e7bc8adc53"
      },
      "execution_count": 6,
      "outputs": [
        {
          "output_type": "stream",
          "name": "stderr",
          "text": [
            "/usr/local/lib/python3.7/dist-packages/ipykernel_launcher.py:12: UserWarning: Attempted to set non-positive bottom ylim on a log-scaled axis.\n",
            "Invalid limit will be ignored.\n",
            "  if sys.path[0] == '':\n",
            "/usr/local/lib/python3.7/dist-packages/ipykernel_launcher.py:31: RuntimeWarning: overflow encountered in double_scalars\n"
          ]
        },
        {
          "output_type": "display_data",
          "data": {
            "image/png": "[encoded data removed]",
            "text/plain": [
              "<Figure size 432x288 with 1 Axes>"
            ]
          },
          "metadata": {
            "needs_background": "light"
          }
        }
      ]
    },
    {
      "cell_type": "code",
      "source": [
        "\n"
      ],
      "metadata": {
        "colab": {
          "base_uri": "https://localhost:8080/"
        },
        "id": "Jmy6mgLjKpYj",
        "outputId": "bdaca0f4-41db-4421-9dc2-17afcf8420c1"
      },
      "execution_count": 3,
      "outputs": [
        {
          "output_type": "execute_result",
          "data": {
            "text/plain": [
              "array([ 566922.91782044,   20338.76858794, -242300.9960652 ,\n",
              "          1327.12214013,  -23240.02335068])"
            ]
          },
          "metadata": {},
          "execution_count": 3
        }
      ]
    },
    {
      "cell_type": "code",
      "source": [
        ""
      ],
      "metadata": {
        "id": "hX_VFrk4QIz3"
      },
      "execution_count": null,
      "outputs": []
    }
  ]
}